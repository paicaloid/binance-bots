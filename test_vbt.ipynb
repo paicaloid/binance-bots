{
 "cells": [
  {
   "cell_type": "code",
   "execution_count": 1,
   "metadata": {},
   "outputs": [],
   "source": [
    "import vectorbtpro as vbt"
   ]
  },
  {
   "cell_type": "code",
   "execution_count": 3,
   "metadata": {},
   "outputs": [
    {
     "name": "stdout",
     "output_type": "stream",
     "text": [
      "STOCHRSI.run(\n",
      "    close,\n",
      "    length=Default(value=None),\n",
      "    rsi_length=Default(value=None),\n",
      "    k=Default(value=None),\n",
      "    d=Default(value=None),\n",
      "    mamode=Default(value=None),\n",
      "    offset=Default(value=None),\n",
      "    short_name='stochrsi',\n",
      "    hide_params=None,\n",
      "    hide_default=True,\n",
      "    **kwargs\n",
      "):\n",
      "    Run `STOCHRSI` indicator.\n",
      "    \n",
      "    * Inputs: `close`\n",
      "    * Parameters: `length`, `rsi_length`, `k`, `d`, `mamode`, `offset`\n",
      "    * Outputs: `stochrsik`, `stochrsid`\n",
      "    \n",
      "    Pass a list of parameter names as `hide_params` to hide their column levels, or True to hide all.\n",
      "    Set `hide_default` to False to show the column levels of the parameters with a default value.\n",
      "    \n",
      "    Other keyword arguments are passed to `STOCHRSI.run_pipeline`.\n"
     ]
    }
   ],
   "source": [
    "vbt.phelp(vbt.pandas_ta(\"STOCHRSI\").run)"
   ]
  },
  {
   "cell_type": "code",
   "execution_count": null,
   "metadata": {},
   "outputs": [],
   "source": [
    "data = vbt.BinanceData.fetch(\n",
    "    \"\",\n",
    "    start=self.start_date,\n",
    "    end=self.end_date,\n",
    "    timeframe=timeframe,\n",
    "    tz=\"Asia/Bangkok\",\n",
    ") "
   ]
  }
 ],
 "metadata": {
  "kernelspec": {
   "display_name": "vbtpro",
   "language": "python",
   "name": "python3"
  },
  "language_info": {
   "codemirror_mode": {
    "name": "ipython",
    "version": 3
   },
   "file_extension": ".py",
   "mimetype": "text/x-python",
   "name": "python",
   "nbconvert_exporter": "python",
   "pygments_lexer": "ipython3",
   "version": "3.9.16"
  },
  "orig_nbformat": 4
 },
 "nbformat": 4,
 "nbformat_minor": 2
}
