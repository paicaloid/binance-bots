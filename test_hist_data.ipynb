{
 "cells": [
  {
   "cell_type": "code",
   "execution_count": 7,
   "metadata": {},
   "outputs": [],
   "source": [
    "from binance.client import Client\n",
    "from dotenv import load_dotenv, find_dotenv\n",
    "import os\n",
    "import vectorbtpro as vbt\n",
    "from utils.helpers import get_balances, get_symbol_info\n",
    "load_dotenv(find_dotenv(filename=\".env.local\", raise_error_if_not_found=True), override=True)\n",
    "\n",
    "API_KEY = os.getenv('API_KEY')\n",
    "API_SECRET = os.getenv('API_SECRET')\n",
    "\n",
    "client = Client(api_key=API_KEY, api_secret=API_SECRET)"
   ]
  },
  {
   "cell_type": "code",
   "execution_count": null,
   "metadata": {},
   "outputs": [],
   "source": [
    "candles = client.get_klines(\n",
    "    symbol='OPUSDT', \n",
    "    interval=Client.KLINE_INTERVAL_1HOUR,\n",
    "    limit=250\n",
    ")"
   ]
  },
  {
   "cell_type": "code",
   "execution_count": null,
   "metadata": {},
   "outputs": [],
   "source": [
    "import pandas as pd\n",
    "\n",
    "df = pd.DataFrame(\n",
    "    candles, \n",
    "    columns=[\n",
    "        'unix_time',\n",
    "        'open', \n",
    "        'high', \n",
    "        'low', \n",
    "        'close', \n",
    "        'volume', \n",
    "        'close_time', \n",
    "        'quote_asset', \n",
    "        'trades', \n",
    "        'taker_buy_base',\n",
    "        'take_buy_quote', \n",
    "        'ignore'\n",
    "    ]\n",
    ")\n",
    "\n",
    "df['datetime'] = pd.to_datetime(df['unix_time'], unit=\"ms\", utc=True)\n",
    "df['datetime'] = df['datetime'].dt.tz_convert('Asia/Bangkok')\n",
    "df = df.set_index('datetime')\n",
    "df = df.drop(columns=[\"unix_time\", \"close_time\", \"ignore\"])"
   ]
  },
  {
   "cell_type": "code",
   "execution_count": null,
   "metadata": {},
   "outputs": [],
   "source": [
    "df"
   ]
  },
  {
   "cell_type": "code",
   "execution_count": null,
   "metadata": {},
   "outputs": [],
   "source": [
    "close = df['close']\n",
    "# open_price = df['open']\n",
    "high = df['high']\n",
    "low = df['low']"
   ]
  },
  {
   "cell_type": "code",
   "execution_count": null,
   "metadata": {},
   "outputs": [],
   "source": [
    "tr = vbt.pandas_ta(\"TRUE_RANGE\").run(high, low, close)\n",
    "tr.truerange"
   ]
  },
  {
   "cell_type": "code",
   "execution_count": null,
   "metadata": {},
   "outputs": [],
   "source": [
    "trur = vbt.pandas_ta(\"RMA\").run(tr.truerange, length=14)"
   ]
  },
  {
   "cell_type": "code",
   "execution_count": null,
   "metadata": {},
   "outputs": [],
   "source": [
    "trur.rma"
   ]
  },
  {
   "cell_type": "code",
   "execution_count": null,
   "metadata": {},
   "outputs": [],
   "source": [
    "import pandas_ta as ta"
   ]
  },
  {
   "cell_type": "code",
   "execution_count": null,
   "metadata": {},
   "outputs": [],
   "source": [
    "xx = ta.true_range(high=high, low=low, close=close)\n",
    "xx"
   ]
  },
  {
   "cell_type": "code",
   "execution_count": null,
   "metadata": {},
   "outputs": [],
   "source": [
    "yy = ta.rma(close=xx, length=14)\n",
    "yy"
   ]
  },
  {
   "cell_type": "code",
   "execution_count": 34,
   "metadata": {},
   "outputs": [],
   "source": [
    "res = get_balances(client=client)"
   ]
  },
  {
   "cell_type": "code",
   "execution_count": 33,
   "metadata": {},
   "outputs": [],
   "source": [
    "info = get_symbol_info(client=client, symbol='OPUSDT')"
   ]
  },
  {
   "cell_type": "code",
   "execution_count": 36,
   "metadata": {},
   "outputs": [
    {
     "data": {
      "text/plain": [
       "'0.00818000'"
      ]
     },
     "execution_count": 36,
     "metadata": {},
     "output_type": "execute_result"
    }
   ],
   "source": [
    "res.get(\"OP\").get(\"free\")"
   ]
  },
  {
   "cell_type": "code",
   "execution_count": 32,
   "metadata": {},
   "outputs": [
    {
     "data": {
      "text/plain": [
       "Symbol(symbol='OPUSDT', base_asset='OP', quote_asset='USDT', price_filter=PriceFilter(min_price=0.001, max_price=1000.0, tick_size=0.001), lot_size_filter=LotSizeFilter(min_qty=0.01, max_qty=92141578.0, step_size=0.01), market_lot_size_filter=MarketLotSizeFilter(min_qty=0.0, max_qty=807552.46775, step_size=0.0), notional_filter=NotionalFilter(min_notional=5.0, max_notional=9000000.0))"
      ]
     },
     "execution_count": 32,
     "metadata": {},
     "output_type": "execute_result"
    }
   ],
   "source": [
    "info"
   ]
  },
  {
   "cell_type": "code",
   "execution_count": 10,
   "metadata": {},
   "outputs": [],
   "source": [
    "from binance.helpers import round_step_size"
   ]
  },
  {
   "cell_type": "code",
   "execution_count": 15,
   "metadata": {},
   "outputs": [
    {
     "data": {
      "text/plain": [
       "0.01"
      ]
     },
     "execution_count": 15,
     "metadata": {},
     "output_type": "execute_result"
    }
   ],
   "source": [
    "round_step_size(0.01234, info.lot_size_filter.min_qty)"
   ]
  },
  {
   "cell_type": "code",
   "execution_count": 27,
   "metadata": {},
   "outputs": [
    {
     "data": {
      "text/plain": [
       "'1.29400000'"
      ]
     },
     "execution_count": 27,
     "metadata": {},
     "output_type": "execute_result"
    }
   ],
   "source": [
    "price = client.get_symbol_ticker(symbol='OPUSDT').get(\"price\")\n",
    "price"
   ]
  },
  {
   "cell_type": "code",
   "execution_count": null,
   "metadata": {},
   "outputs": [],
   "source": [
    "float(usdt)/"
   ]
  },
  {
   "cell_type": "code",
   "execution_count": 29,
   "metadata": {},
   "outputs": [
    {
     "data": {
      "text/plain": [
       "'16.29627685'"
      ]
     },
     "execution_count": 29,
     "metadata": {},
     "output_type": "execute_result"
    }
   ],
   "source": [
    "usdt = res.get(\"USDT\").get(\"free\")\n",
    "usdt"
   ]
  },
  {
   "cell_type": "code",
   "execution_count": 31,
   "metadata": {},
   "outputs": [
    {
     "data": {
      "text/plain": [
       "12.593722449768162"
      ]
     },
     "execution_count": 31,
     "metadata": {},
     "output_type": "execute_result"
    }
   ],
   "source": [
    "float(usdt)/float(price)"
   ]
  },
  {
   "cell_type": "code",
   "execution_count": 43,
   "metadata": {},
   "outputs": [],
   "source": [
    "from binance.enums import *\n",
    "order = client.create_test_order(\n",
    "    symbol='OPUSDT',\n",
    "    side=Client.SIDE_BUY,\n",
    "    type=Client.ORDER_TYPE_MARKET,\n",
    "    quoteOrderQty=5,\n",
    ")"
   ]
  },
  {
   "cell_type": "code",
   "execution_count": 21,
   "metadata": {},
   "outputs": [
    {
     "data": {
      "text/plain": [
       "{}"
      ]
     },
     "execution_count": 21,
     "metadata": {},
     "output_type": "execute_result"
    }
   ],
   "source": [
    "order"
   ]
  },
  {
   "cell_type": "markdown",
   "metadata": {},
   "source": [
    "Test Order Market Buy"
   ]
  },
  {
   "cell_type": "code",
   "execution_count": null,
   "metadata": {},
   "outputs": [],
   "source": [
    "from binance.enums import *\n",
    "order = client.create_test_order(\n",
    "    symbol='OPUSDT',\n",
    "    side=Client.SIDE_BUY,\n",
    "    type=Client.ORDER_TYPE_MARKET,\n",
    "    quoteOrderQty=5,\n",
    ")"
   ]
  },
  {
   "cell_type": "code",
   "execution_count": 46,
   "metadata": {},
   "outputs": [],
   "source": [
    "# order = client.create_order(\n",
    "#     symbol=\"OPUSDT\",\n",
    "#     side=Client.SIDE_BUY,\n",
    "#     type=Client.ORDER_TYPE_MARKET,\n",
    "#     quoteOrderQty=5\n",
    "# )"
   ]
  },
  {
   "cell_type": "code",
   "execution_count": 47,
   "metadata": {},
   "outputs": [
    {
     "data": {
      "text/plain": [
       "{'symbol': 'OPUSDT',\n",
       " 'orderId': 743550530,\n",
       " 'orderListId': -1,\n",
       " 'clientOrderId': 'g2FFs4vZhVVt7X8zKL0Nq7',\n",
       " 'transactTime': 1695563116028,\n",
       " 'price': '0.00000000',\n",
       " 'origQty': '3.86000000',\n",
       " 'executedQty': '3.86000000',\n",
       " 'cummulativeQuoteQty': '4.98712000',\n",
       " 'status': 'FILLED',\n",
       " 'timeInForce': 'GTC',\n",
       " 'type': 'MARKET',\n",
       " 'side': 'BUY',\n",
       " 'workingTime': 1695563116028,\n",
       " 'fills': [{'price': '1.29200000',\n",
       "   'qty': '3.86000000',\n",
       "   'commission': '0.00386000',\n",
       "   'commissionAsset': 'OP',\n",
       "   'tradeId': 44030422}],\n",
       " 'selfTradePreventionMode': 'NONE'}"
      ]
     },
     "execution_count": 47,
     "metadata": {},
     "output_type": "execute_result"
    }
   ],
   "source": [
    "order"
   ]
  },
  {
   "cell_type": "markdown",
   "metadata": {},
   "source": [
    "Test Order Market Buy"
   ]
  },
  {
   "cell_type": "code",
   "execution_count": 49,
   "metadata": {},
   "outputs": [],
   "source": [
    "from binance.enums import *\n",
    "order = client.create_test_order(\n",
    "    symbol='OPUSDT',\n",
    "    side=Client.SIDE_SELL,\n",
    "    type=Client.ORDER_TYPE_MARKET,\n",
    "    quantity=100\n",
    ")"
   ]
  },
  {
   "cell_type": "code",
   "execution_count": 50,
   "metadata": {},
   "outputs": [],
   "source": [
    "# order = client.create_order(\n",
    "#     symbol='OPUSDT',\n",
    "#     side=Client.SIDE_SELL,\n",
    "#     type=Client.ORDER_TYPE_MARKET,\n",
    "#     quoteOrderQty=5\n",
    "# )"
   ]
  },
  {
   "cell_type": "code",
   "execution_count": 51,
   "metadata": {},
   "outputs": [
    {
     "data": {
      "text/plain": [
       "{'symbol': 'OPUSDT',\n",
       " 'orderId': 743552702,\n",
       " 'orderListId': -1,\n",
       " 'clientOrderId': 'S5d9NlhI6bLotPH7q509rY',\n",
       " 'transactTime': 1695563402583,\n",
       " 'price': '0.00000000',\n",
       " 'origQty': '3.86000000',\n",
       " 'executedQty': '3.86000000',\n",
       " 'cummulativeQuoteQty': '4.98712000',\n",
       " 'status': 'FILLED',\n",
       " 'timeInForce': 'GTC',\n",
       " 'type': 'MARKET',\n",
       " 'side': 'SELL',\n",
       " 'workingTime': 1695563402583,\n",
       " 'fills': [{'price': '1.29200000',\n",
       "   'qty': '3.86000000',\n",
       "   'commission': '0.00498712',\n",
       "   'commissionAsset': 'USDT',\n",
       "   'tradeId': 44030434}],\n",
       " 'selfTradePreventionMode': 'NONE'}"
      ]
     },
     "execution_count": 51,
     "metadata": {},
     "output_type": "execute_result"
    }
   ],
   "source": [
    "order"
   ]
  },
  {
   "cell_type": "code",
   "execution_count": null,
   "metadata": {},
   "outputs": [],
   "source": []
  }
 ],
 "metadata": {
  "kernelspec": {
   "display_name": "binance",
   "language": "python",
   "name": "python3"
  },
  "language_info": {
   "codemirror_mode": {
    "name": "ipython",
    "version": 3
   },
   "file_extension": ".py",
   "mimetype": "text/x-python",
   "name": "python",
   "nbconvert_exporter": "python",
   "pygments_lexer": "ipython3",
   "version": "3.10.13"
  },
  "orig_nbformat": 4
 },
 "nbformat": 4,
 "nbformat_minor": 2
}
