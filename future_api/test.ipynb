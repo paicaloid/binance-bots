{
 "cells": [
  {
   "cell_type": "code",
   "execution_count": 1,
   "metadata": {},
   "outputs": [],
   "source": [
    "from orders import client"
   ]
  },
  {
   "cell_type": "code",
   "execution_count": 2,
   "metadata": {},
   "outputs": [],
   "source": [
    "temp = client.futures_account()"
   ]
  },
  {
   "cell_type": "code",
   "execution_count": 7,
   "metadata": {},
   "outputs": [
    {
     "data": {
      "text/plain": [
       "{'symbol': 'SNTUSDT',\n",
       " 'initialMargin': '0',\n",
       " 'maintMargin': '0',\n",
       " 'unrealizedProfit': '0.00000000',\n",
       " 'positionInitialMargin': '0',\n",
       " 'openOrderInitialMargin': '0',\n",
       " 'leverage': '1',\n",
       " 'isolated': False,\n",
       " 'entryPrice': '0.0',\n",
       " 'breakEvenPrice': '0.0',\n",
       " 'maxNotional': '2000000.0',\n",
       " 'positionSide': 'BOTH',\n",
       " 'positionAmt': '0',\n",
       " 'notional': '0',\n",
       " 'isolatedWallet': '0',\n",
       " 'updateTime': 0,\n",
       " 'bidNotional': '0',\n",
       " 'askNotional': '0'}"
      ]
     },
     "execution_count": 7,
     "metadata": {},
     "output_type": "execute_result"
    }
   ],
   "source": [
    "temp.get(\"positions\")[0]"
   ]
  },
  {
   "cell_type": "code",
   "execution_count": 8,
   "metadata": {},
   "outputs": [
    {
     "name": "stdout",
     "output_type": "stream",
     "text": [
      "{'symbol': 'OPUSDT', 'initialMargin': '8.07233208', 'maintMargin': '0.04843399', 'unrealizedProfit': '-0.02766792', 'positionInitialMargin': '8.07233208', 'openOrderInitialMargin': '0', 'leverage': '1', 'isolated': False, 'entryPrice': '1.35', 'breakEvenPrice': '1.35027', 'maxNotional': '2.0E7', 'positionSide': 'BOTH', 'positionAmt': '6.0', 'notional': '8.07233208', 'isolatedWallet': '0', 'updateTime': 1699005699761, 'bidNotional': '0', 'askNotional': '0'}\n"
     ]
    }
   ],
   "source": [
    "for data in temp.get(\"positions\"):\n",
    "    if data.get(\"symbol\") == \"OPUSDT\":\n",
    "        print(data)"
   ]
  }
 ],
 "metadata": {
  "kernelspec": {
   "display_name": "binance",
   "language": "python",
   "name": "python3"
  },
  "language_info": {
   "codemirror_mode": {
    "name": "ipython",
    "version": 3
   },
   "file_extension": ".py",
   "mimetype": "text/x-python",
   "name": "python",
   "nbconvert_exporter": "python",
   "pygments_lexer": "ipython3",
   "version": "3.10.13"
  }
 },
 "nbformat": 4,
 "nbformat_minor": 2
}
